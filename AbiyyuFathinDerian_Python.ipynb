{
 "cells": [
  {
   "cell_type": "markdown",
   "id": "6cf28eb8",
   "metadata": {},
   "source": [
    "**ABIYYU FATHIN DERIAN**\n",
    "\n",
    "**IYKRA DATA FELLOWSHIP BATCH 6**"
   ]
  },
  {
   "cell_type": "markdown",
   "id": "bba58317",
   "metadata": {},
   "source": [
    "# PYTHON PRACTICE CASE"
   ]
  },
  {
   "cell_type": "markdown",
   "id": "2ea69685",
   "metadata": {},
   "source": [
    "## NUMBER 1"
   ]
  },
  {
   "cell_type": "markdown",
   "id": "5ca8512c",
   "metadata": {},
   "source": [
    "## Import Required Library"
   ]
  },
  {
   "cell_type": "code",
   "execution_count": 1,
   "id": "77de7eb5",
   "metadata": {},
   "outputs": [],
   "source": [
    "import sqlite3 as sql\n",
    "import pandas as pd\n",
    "import json"
   ]
  },
  {
   "cell_type": "markdown",
   "id": "59659a33",
   "metadata": {},
   "source": [
    "## Connect to SQLite"
   ]
  },
  {
   "cell_type": "code",
   "execution_count": 2,
   "id": "0d904151",
   "metadata": {},
   "outputs": [],
   "source": [
    "con = sql.connect('answer1.db')\n",
    "cur = con.cursor()"
   ]
  },
  {
   "cell_type": "markdown",
   "id": "9b8571ac",
   "metadata": {},
   "source": [
    "## Drop Existing Table"
   ]
  },
  {
   "cell_type": "code",
   "execution_count": 3,
   "id": "9b3fa0c0",
   "metadata": {},
   "outputs": [
    {
     "data": {
      "text/plain": [
       "<sqlite3.Cursor at 0x11c4f0e30>"
      ]
     },
     "execution_count": 3,
     "metadata": {},
     "output_type": "execute_result"
    }
   ],
   "source": [
    "cur.execute('DROP TABLE transactions')"
   ]
  },
  {
   "cell_type": "markdown",
   "id": "18a0116e",
   "metadata": {},
   "source": [
    "## Create Table in Database"
   ]
  },
  {
   "cell_type": "code",
   "execution_count": 4,
   "id": "3fd3baa3",
   "metadata": {},
   "outputs": [],
   "source": [
    "cur.execute('''CREATE TABLE transactions (\n",
    "    id INT(3),\n",
    "    insert_time TIMESTAMP, \n",
    "    tx_amount FLOAT, \n",
    "    tx_type TEXT(20), \n",
    "    status TEXT(20))''') \n",
    "con.commit()"
   ]
  },
  {
   "cell_type": "markdown",
   "id": "68079729",
   "metadata": {},
   "source": [
    "## Insert Rows in The Table"
   ]
  },
  {
   "cell_type": "code",
   "execution_count": 5,
   "id": "4e88c4b2",
   "metadata": {},
   "outputs": [],
   "source": [
    "cur.execute('''INSERT INTO transactions (\n",
    "    id, \n",
    "    insert_time, \n",
    "    tx_amount, \n",
    "    tx_type, \n",
    "    status\n",
    "    ) \n",
    "VALUES \n",
    "    (1, \"2021-07-01 13:02:34\", 23, \"buy\", \"open\"),\n",
    "    (1, \"2021-07-01 13:20:14\", 23, \"buy\", \"close\"),\n",
    "    (2, \"2021-07-01 13:46:52\", 98, \"sell\", \"open\"),\n",
    "    (3, \"2021-07-01 13:59:12\", 51, \"sell\", \"open\"),\n",
    "    (4, \"2021-07-01 14:06:48\", 47, \"buy\", \"open\"),\n",
    "    (3, \"2021-07-01 14:18:36\", 51, \"sell\", \"close\"),\n",
    "    (5, \"2021-07-01 14:34:22\", 11, \"sell\", \"open\"),\n",
    "    (5, \"2021-07-01 14:50:11\", 11, \"sell\", \"close\"),\n",
    "    (4, \"2021-07-01 14:58:41\", 47, \"sell\", \"close\"),\n",
    "    (6, \"2021-07-01 15:00:00\", 72, \"buy\", \"open\"),\n",
    "    (7, \"2021-07-01 15:12:12\", 91, \"sell\", \"open\");''')\n",
    "con.commit()"
   ]
  },
  {
   "cell_type": "markdown",
   "id": "47d6211d",
   "metadata": {},
   "source": [
    "## Get The Last Transaction of Each Id"
   ]
  },
  {
   "cell_type": "code",
   "execution_count": 22,
   "id": "62e88cae",
   "metadata": {},
   "outputs": [
    {
     "data": {
      "text/html": [
       "<div>\n",
       "<style scoped>\n",
       "    .dataframe tbody tr th:only-of-type {\n",
       "        vertical-align: middle;\n",
       "    }\n",
       "\n",
       "    .dataframe tbody tr th {\n",
       "        vertical-align: top;\n",
       "    }\n",
       "\n",
       "    .dataframe thead tr th {\n",
       "        text-align: left;\n",
       "    }\n",
       "</style>\n",
       "<table border=\"1\" class=\"dataframe\">\n",
       "  <thead>\n",
       "    <tr>\n",
       "      <th></th>\n",
       "      <th>id</th>\n",
       "      <th>insert_time</th>\n",
       "      <th>tx_amount</th>\n",
       "      <th>tx_type</th>\n",
       "      <th>status</th>\n",
       "    </tr>\n",
       "    <tr>\n",
       "      <th></th>\n",
       "      <th>NaN</th>\n",
       "      <th>NaN</th>\n",
       "      <th>NaN</th>\n",
       "      <th>NaN</th>\n",
       "      <th>NaN</th>\n",
       "    </tr>\n",
       "    <tr>\n",
       "      <th></th>\n",
       "      <th>NaN</th>\n",
       "      <th>NaN</th>\n",
       "      <th>NaN</th>\n",
       "      <th>NaN</th>\n",
       "      <th>NaN</th>\n",
       "    </tr>\n",
       "    <tr>\n",
       "      <th></th>\n",
       "      <th>NaN</th>\n",
       "      <th>NaN</th>\n",
       "      <th>NaN</th>\n",
       "      <th>NaN</th>\n",
       "      <th>NaN</th>\n",
       "    </tr>\n",
       "    <tr>\n",
       "      <th></th>\n",
       "      <th>NaN</th>\n",
       "      <th>NaN</th>\n",
       "      <th>NaN</th>\n",
       "      <th>NaN</th>\n",
       "      <th>NaN</th>\n",
       "    </tr>\n",
       "    <tr>\n",
       "      <th></th>\n",
       "      <th>NaN</th>\n",
       "      <th>NaN</th>\n",
       "      <th>NaN</th>\n",
       "      <th>NaN</th>\n",
       "      <th>NaN</th>\n",
       "    </tr>\n",
       "    <tr>\n",
       "      <th></th>\n",
       "      <th>NaN</th>\n",
       "      <th>NaN</th>\n",
       "      <th>NaN</th>\n",
       "      <th>NaN</th>\n",
       "      <th>NaN</th>\n",
       "    </tr>\n",
       "  </thead>\n",
       "  <tbody>\n",
       "    <tr>\n",
       "      <th>0</th>\n",
       "      <td>1</td>\n",
       "      <td>2021-07-01 13:20:14</td>\n",
       "      <td>23.0</td>\n",
       "      <td>buy</td>\n",
       "      <td>close</td>\n",
       "    </tr>\n",
       "    <tr>\n",
       "      <th>1</th>\n",
       "      <td>2</td>\n",
       "      <td>2021-07-01 13:46:52</td>\n",
       "      <td>98.0</td>\n",
       "      <td>sell</td>\n",
       "      <td>open</td>\n",
       "    </tr>\n",
       "    <tr>\n",
       "      <th>2</th>\n",
       "      <td>3</td>\n",
       "      <td>2021-07-01 14:18:36</td>\n",
       "      <td>51.0</td>\n",
       "      <td>sell</td>\n",
       "      <td>close</td>\n",
       "    </tr>\n",
       "    <tr>\n",
       "      <th>3</th>\n",
       "      <td>4</td>\n",
       "      <td>2021-07-01 14:58:41</td>\n",
       "      <td>47.0</td>\n",
       "      <td>sell</td>\n",
       "      <td>close</td>\n",
       "    </tr>\n",
       "    <tr>\n",
       "      <th>4</th>\n",
       "      <td>5</td>\n",
       "      <td>2021-07-01 14:50:11</td>\n",
       "      <td>11.0</td>\n",
       "      <td>sell</td>\n",
       "      <td>close</td>\n",
       "    </tr>\n",
       "    <tr>\n",
       "      <th>5</th>\n",
       "      <td>6</td>\n",
       "      <td>2021-07-01 15:00:00</td>\n",
       "      <td>72.0</td>\n",
       "      <td>buy</td>\n",
       "      <td>open</td>\n",
       "    </tr>\n",
       "    <tr>\n",
       "      <th>6</th>\n",
       "      <td>7</td>\n",
       "      <td>2021-07-01 15:12:12</td>\n",
       "      <td>91.0</td>\n",
       "      <td>sell</td>\n",
       "      <td>open</td>\n",
       "    </tr>\n",
       "  </tbody>\n",
       "</table>\n",
       "</div>"
      ],
      "text/plain": [
       "   id          insert_time tx_amount tx_type status\n",
       "  NaN                  NaN       NaN     NaN    NaN\n",
       "  NaN                  NaN       NaN     NaN    NaN\n",
       "  NaN                  NaN       NaN     NaN    NaN\n",
       "  NaN                  NaN       NaN     NaN    NaN\n",
       "  NaN                  NaN       NaN     NaN    NaN\n",
       "  NaN                  NaN       NaN     NaN    NaN\n",
       "0   1  2021-07-01 13:20:14      23.0     buy  close\n",
       "1   2  2021-07-01 13:46:52      98.0    sell   open\n",
       "2   3  2021-07-01 14:18:36      51.0    sell  close\n",
       "3   4  2021-07-01 14:58:41      47.0    sell  close\n",
       "4   5  2021-07-01 14:50:11      11.0    sell  close\n",
       "5   6  2021-07-01 15:00:00      72.0     buy   open\n",
       "6   7  2021-07-01 15:12:12      91.0    sell   open"
      ]
     },
     "execution_count": 22,
     "metadata": {},
     "output_type": "execute_result"
    }
   ],
   "source": [
    "syntax = cur.execute('''\n",
    "        SELECT *\n",
    "        FROM transactions\n",
    "        GROUP BY Id\n",
    "        HAVING MAX(insert_time)\n",
    "''')\n",
    "con.commit()\n",
    "\n",
    "row = syntax.fetchall()\n",
    "col = syntax.description\n",
    "result = pd.DataFrame(row, columns = col)\n",
    "result"
   ]
  },
  {
   "cell_type": "markdown",
   "id": "e3c2ea93",
   "metadata": {},
   "source": [
    "-----------------\n",
    "\n",
    "## NUMBER 2"
   ]
  },
  {
   "cell_type": "markdown",
   "id": "0e5b3a93",
   "metadata": {},
   "source": [
    "## Connect to SQLite"
   ]
  },
  {
   "cell_type": "code",
   "execution_count": 23,
   "id": "04a24218",
   "metadata": {},
   "outputs": [],
   "source": [
    "con2 = sql.connect('answer2.db')\n",
    "cur2 = con2.cursor()"
   ]
  },
  {
   "cell_type": "markdown",
   "id": "1e19ace6",
   "metadata": {},
   "source": [
    "## Drop Existing Table"
   ]
  },
  {
   "cell_type": "code",
   "execution_count": 24,
   "id": "10aaeda3",
   "metadata": {},
   "outputs": [
    {
     "data": {
      "text/plain": [
       "<sqlite3.Cursor at 0x11c86fa40>"
      ]
     },
     "execution_count": 24,
     "metadata": {},
     "output_type": "execute_result"
    }
   ],
   "source": [
    "cur2.execute('DROP TABLE sales')"
   ]
  },
  {
   "cell_type": "markdown",
   "id": "31c77962",
   "metadata": {},
   "source": [
    "## Create Table in Database"
   ]
  },
  {
   "cell_type": "code",
   "execution_count": 25,
   "id": "7dfbe963",
   "metadata": {},
   "outputs": [],
   "source": [
    "cur2.execute('''CREATE TABLE sales (\n",
    "    Date DATE, \n",
    "    Sales FLOAT)''') \n",
    "con2.commit()"
   ]
  },
  {
   "cell_type": "markdown",
   "id": "de43a98a",
   "metadata": {},
   "source": [
    "## Insert Rows in The Table"
   ]
  },
  {
   "cell_type": "code",
   "execution_count": 26,
   "id": "7cdd15e7",
   "metadata": {},
   "outputs": [],
   "source": [
    "cur2.execute('''INSERT INTO sales (\n",
    "    Date, \n",
    "    Sales\n",
    "    ) \n",
    "VALUES \n",
    "    (\"2021-01-01\", 100),\n",
    "    (\"2021-01-02\", 34),\n",
    "    (\"2021-01-02\", 123),\n",
    "    (\"2021-01-02\", 134),\n",
    "    (\"2021-01-03\", 145),\n",
    "    (\"2021-01-03\", 24),\n",
    "    (\"2021-01-04\", 541),\n",
    "    (\"2021-01-04\", 636),\n",
    "    (\"2021-01-05\", 322),\n",
    "    (\"2021-01-06\", 242),\n",
    "    (\"2021-01-07\", 22),\n",
    "    (\"2021-01-08\", 46);''')\n",
    "con2.commit()"
   ]
  },
  {
   "cell_type": "markdown",
   "id": "65e4f4c2",
   "metadata": {},
   "source": [
    "## Get The Sum of Sales in Each Date "
   ]
  },
  {
   "cell_type": "code",
   "execution_count": 27,
   "id": "8e04057a",
   "metadata": {},
   "outputs": [
    {
     "data": {
      "text/html": [
       "<div>\n",
       "<style scoped>\n",
       "    .dataframe tbody tr th:only-of-type {\n",
       "        vertical-align: middle;\n",
       "    }\n",
       "\n",
       "    .dataframe tbody tr th {\n",
       "        vertical-align: top;\n",
       "    }\n",
       "\n",
       "    .dataframe thead tr th {\n",
       "        text-align: left;\n",
       "    }\n",
       "</style>\n",
       "<table border=\"1\" class=\"dataframe\">\n",
       "  <thead>\n",
       "    <tr>\n",
       "      <th></th>\n",
       "      <th>Date</th>\n",
       "      <th>total_of_sales</th>\n",
       "    </tr>\n",
       "    <tr>\n",
       "      <th></th>\n",
       "      <th>NaN</th>\n",
       "      <th>NaN</th>\n",
       "    </tr>\n",
       "    <tr>\n",
       "      <th></th>\n",
       "      <th>NaN</th>\n",
       "      <th>NaN</th>\n",
       "    </tr>\n",
       "    <tr>\n",
       "      <th></th>\n",
       "      <th>NaN</th>\n",
       "      <th>NaN</th>\n",
       "    </tr>\n",
       "    <tr>\n",
       "      <th></th>\n",
       "      <th>NaN</th>\n",
       "      <th>NaN</th>\n",
       "    </tr>\n",
       "    <tr>\n",
       "      <th></th>\n",
       "      <th>NaN</th>\n",
       "      <th>NaN</th>\n",
       "    </tr>\n",
       "    <tr>\n",
       "      <th></th>\n",
       "      <th>NaN</th>\n",
       "      <th>NaN</th>\n",
       "    </tr>\n",
       "  </thead>\n",
       "  <tbody>\n",
       "    <tr>\n",
       "      <th>0</th>\n",
       "      <td>2021-01-01</td>\n",
       "      <td>100.0</td>\n",
       "    </tr>\n",
       "    <tr>\n",
       "      <th>1</th>\n",
       "      <td>2021-01-02</td>\n",
       "      <td>291.0</td>\n",
       "    </tr>\n",
       "    <tr>\n",
       "      <th>2</th>\n",
       "      <td>2021-01-03</td>\n",
       "      <td>169.0</td>\n",
       "    </tr>\n",
       "    <tr>\n",
       "      <th>3</th>\n",
       "      <td>2021-01-04</td>\n",
       "      <td>1177.0</td>\n",
       "    </tr>\n",
       "    <tr>\n",
       "      <th>4</th>\n",
       "      <td>2021-01-05</td>\n",
       "      <td>322.0</td>\n",
       "    </tr>\n",
       "    <tr>\n",
       "      <th>5</th>\n",
       "      <td>2021-01-06</td>\n",
       "      <td>242.0</td>\n",
       "    </tr>\n",
       "    <tr>\n",
       "      <th>6</th>\n",
       "      <td>2021-01-07</td>\n",
       "      <td>22.0</td>\n",
       "    </tr>\n",
       "    <tr>\n",
       "      <th>7</th>\n",
       "      <td>2021-01-08</td>\n",
       "      <td>46.0</td>\n",
       "    </tr>\n",
       "  </tbody>\n",
       "</table>\n",
       "</div>"
      ],
      "text/plain": [
       "         Date total_of_sales\n",
       "          NaN            NaN\n",
       "          NaN            NaN\n",
       "          NaN            NaN\n",
       "          NaN            NaN\n",
       "          NaN            NaN\n",
       "          NaN            NaN\n",
       "0  2021-01-01          100.0\n",
       "1  2021-01-02          291.0\n",
       "2  2021-01-03          169.0\n",
       "3  2021-01-04         1177.0\n",
       "4  2021-01-05          322.0\n",
       "5  2021-01-06          242.0\n",
       "6  2021-01-07           22.0\n",
       "7  2021-01-08           46.0"
      ]
     },
     "execution_count": 27,
     "metadata": {},
     "output_type": "execute_result"
    }
   ],
   "source": [
    "syntax2 = cur2.execute('''\n",
    "    SELECT Date, SUM(Sales) total_of_sales\n",
    "    FROM sales\n",
    "    GROUP BY Date\n",
    "    HAVING SUM(Sales)\n",
    "''')\n",
    "con2.commit()\n",
    "\n",
    "row2 = syntax2.fetchall()\n",
    "col2 = syntax2.description\n",
    "result2 = pd.DataFrame(row2, columns = col2)\n",
    "result2"
   ]
  },
  {
   "cell_type": "markdown",
   "id": "9b4748dc",
   "metadata": {},
   "source": [
    "-----------------\n",
    "\n",
    "## NUMBER 3"
   ]
  },
  {
   "cell_type": "markdown",
   "id": "0e6873fe",
   "metadata": {},
   "source": [
    "## Define The Dataset"
   ]
  },
  {
   "cell_type": "code",
   "execution_count": 28,
   "id": "15b23804",
   "metadata": {},
   "outputs": [],
   "source": [
    "dataset = [\n",
    "   {\n",
    "       \"user\": {\n",
    "           \"id\": 1,\n",
    "           \"name\": \"agus\",\n",
    "           \"email\": \"agus@example.com\"\n",
    "       },\n",
    "       \"txs\": [\n",
    "           {\n",
    "               \"id\": 1,\n",
    "               \"tx_date\": \"2020-01-01\",\n",
    "               \"tx_amount\": 10,\n",
    "               \"tx_type\": \"buy\"\n",
    "           },\n",
    "           {\n",
    "               \"id\": 3,\n",
    "               \"tx_date\": \"2020-02-01\",\n",
    "               \"tx_amount\": 10,\n",
    "               \"tx_type\": \"buy\"\n",
    "           },\n",
    "           {\n",
    "               \"id\": 5,\n",
    "               \"tx_date\": \"2020-03-01\",\n",
    "               \"tx_amount\": 20,\n",
    "               \"tx_type\": \"sell\"\n",
    "           }\n",
    "       ]\n",
    "   },\n",
    "   {\n",
    "       \"user\": {\n",
    "           \"id\": 2,\n",
    "           \"name\": \"asep\",\n",
    "           \"email\": \"asep@example.com\"\n",
    "       },\n",
    "       \"txs\": [\n",
    "           {\n",
    "               \"id\": 2,\n",
    "               \"tx_date\": \"2020-01-01\",\n",
    "               \"tx_amount\": 10,\n",
    "               \"tx_type\": \"sell\"\n",
    "           },\n",
    "           {\n",
    "               \"id\": 4,\n",
    "               \"tx_date\": \"2020-02-01\",\n",
    "               \"tx_amount\": 10,\n",
    "               \"tx_type\": \"sell\"\n",
    "           },\n",
    "           {\n",
    "               \"id\": 6,\n",
    "               \"tx_date\": \"2020-03-01\",\n",
    "               \"tx_amount\": 20,\n",
    "               \"tx_type\": \"buy\"\n",
    "           }\n",
    "       ]\n",
    "   }\n",
    "]\n"
   ]
  },
  {
   "cell_type": "markdown",
   "id": "80ef310d",
   "metadata": {},
   "source": [
    "## Check The json as DataFrame"
   ]
  },
  {
   "cell_type": "code",
   "execution_count": 29,
   "id": "cb9c85a7",
   "metadata": {},
   "outputs": [
    {
     "data": {
      "text/html": [
       "<div>\n",
       "<style scoped>\n",
       "    .dataframe tbody tr th:only-of-type {\n",
       "        vertical-align: middle;\n",
       "    }\n",
       "\n",
       "    .dataframe tbody tr th {\n",
       "        vertical-align: top;\n",
       "    }\n",
       "\n",
       "    .dataframe thead th {\n",
       "        text-align: right;\n",
       "    }\n",
       "</style>\n",
       "<table border=\"1\" class=\"dataframe\">\n",
       "  <thead>\n",
       "    <tr style=\"text-align: right;\">\n",
       "      <th></th>\n",
       "      <th>user</th>\n",
       "      <th>txs</th>\n",
       "    </tr>\n",
       "  </thead>\n",
       "  <tbody>\n",
       "    <tr>\n",
       "      <th>0</th>\n",
       "      <td>{'id': 1, 'name': 'agus', 'email': 'agus@examp...</td>\n",
       "      <td>[{'id': 1, 'tx_date': '2020-01-01', 'tx_amount...</td>\n",
       "    </tr>\n",
       "    <tr>\n",
       "      <th>1</th>\n",
       "      <td>{'id': 2, 'name': 'asep', 'email': 'asep@examp...</td>\n",
       "      <td>[{'id': 2, 'tx_date': '2020-01-01', 'tx_amount...</td>\n",
       "    </tr>\n",
       "  </tbody>\n",
       "</table>\n",
       "</div>"
      ],
      "text/plain": [
       "                                                user  \\\n",
       "0  {'id': 1, 'name': 'agus', 'email': 'agus@examp...   \n",
       "1  {'id': 2, 'name': 'asep', 'email': 'asep@examp...   \n",
       "\n",
       "                                                 txs  \n",
       "0  [{'id': 1, 'tx_date': '2020-01-01', 'tx_amount...  \n",
       "1  [{'id': 2, 'tx_date': '2020-01-01', 'tx_amount...  "
      ]
     },
     "execution_count": 29,
     "metadata": {},
     "output_type": "execute_result"
    }
   ],
   "source": [
    "pd.DataFrame(dataset)"
   ]
  },
  {
   "cell_type": "markdown",
   "id": "795f9c76",
   "metadata": {},
   "source": [
    "## Create CSV_1"
   ]
  },
  {
   "cell_type": "code",
   "execution_count": 30,
   "id": "1218da99",
   "metadata": {},
   "outputs": [
    {
     "name": "stdout",
     "output_type": "stream",
     "text": [
      "[1, 1, 1, 2, 2, 2] [1, 3, 5, 2, 4, 6]\n"
     ]
    }
   ],
   "source": [
    "user_id = []\n",
    "tx_id = []\n",
    "\n",
    "for i in dataset:\n",
    "    for j in i['txs']:\n",
    "        user_id.append(i['user']['id'])\n",
    "        tx_id.append(j['id'])\n",
    "print(user_id, tx_id)\n",
    "\n",
    "table_1 = pd.DataFrame(list(zip(user_id, tx_id)), columns =['user_id', 'tx_id'])\n",
    "\n",
    "table_1.to_csv('CSV_1.csv')"
   ]
  },
  {
   "cell_type": "markdown",
   "id": "a366e96e",
   "metadata": {},
   "source": [
    "## Create CSV_2"
   ]
  },
  {
   "cell_type": "code",
   "execution_count": 31,
   "id": "b4ad4a4e",
   "metadata": {},
   "outputs": [
    {
     "name": "stdout",
     "output_type": "stream",
     "text": [
      "[1, 1, 1, 2, 2, 2] ['agus', 'asep'] ['agus@example.com', 'asep@example.com']\n"
     ]
    }
   ],
   "source": [
    "Id = []\n",
    "name = []\n",
    "email = []\n",
    "\n",
    "for i in dataset:\n",
    "    Id.append(i['user']['id'])\n",
    "    name.append(i['user']['name'])\n",
    "    email.append(i['user']['email'])\n",
    "print(user_id, name, email)\n",
    "\n",
    "table_2 = pd.DataFrame(list(zip(Id, name, email)), columns =['Id', 'name', 'email'])\n",
    "\n",
    "table_2.to_csv('CSV_2.csv')"
   ]
  },
  {
   "cell_type": "markdown",
   "id": "d9236e5d",
   "metadata": {},
   "source": [
    "## Create CSV_3"
   ]
  },
  {
   "cell_type": "code",
   "execution_count": 32,
   "id": "e78f7bf5",
   "metadata": {},
   "outputs": [
    {
     "name": "stdout",
     "output_type": "stream",
     "text": [
      "['2020-01-01', '2020-02-01', '2020-03-01', '2020-01-01', '2020-02-01', '2020-03-01'] [10, 10, 20, 10, 10, 20] ['buy', 'buy', 'sell', 'sell', 'sell', 'buy']\n"
     ]
    }
   ],
   "source": [
    "tx_date = []\n",
    "tx_amount = []\n",
    "tx_type = []\n",
    "\n",
    "for i in dataset:\n",
    "    for j in i['txs']:\n",
    "        tx_date.append(j['tx_date'])\n",
    "        tx_amount.append(j['tx_amount'])\n",
    "        tx_type.append(j['tx_type'])\n",
    "print(tx_date, tx_amount, tx_type)\n",
    "\n",
    "table_3 = pd.DataFrame(list(zip(tx_id, tx_date, tx_amount, tx_type)), \n",
    "                       columns =['Id', 'tx_date', 'tx_amount', 'tx_type']).sort_values(by=['Id'])\n",
    "\n",
    "table_3.to_csv('CSV_3.csv')"
   ]
  }
 ],
 "metadata": {
  "kernelspec": {
   "display_name": "Python 3",
   "language": "python",
   "name": "python3"
  },
  "language_info": {
   "codemirror_mode": {
    "name": "ipython",
    "version": 3
   },
   "file_extension": ".py",
   "mimetype": "text/x-python",
   "name": "python",
   "nbconvert_exporter": "python",
   "pygments_lexer": "ipython3",
   "version": "3.9.5"
  }
 },
 "nbformat": 4,
 "nbformat_minor": 5
}
